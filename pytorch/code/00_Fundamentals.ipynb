{
 "cells": [
  {
   "cell_type": "code",
   "execution_count": 135,
   "id": "3d0b47d1-9559-49ea-b23d-a9de310bf1c2",
   "metadata": {},
   "outputs": [
    {
     "name": "stdout",
     "output_type": "stream",
     "text": [
      "Hello World!\n"
     ]
    }
   ],
   "source": [
    "print(\"Hello World!\")"
   ]
  },
  {
   "cell_type": "code",
   "execution_count": 136,
   "id": "a6a33fa0-02c1-4241-926b-8ca195fa5ffe",
   "metadata": {},
   "outputs": [
    {
     "name": "stdout",
     "output_type": "stream",
     "text": [
      "2.7.1+cpu\n",
      "2.3.2\n"
     ]
    }
   ],
   "source": [
    "import torch\n",
    "import torch.nn as nn\n",
    "import pandas as pd\n",
    "import numpy as np\n",
    "\n",
    "print(torch.__version__)\n",
    "print(np.__version__)"
   ]
  },
  {
   "cell_type": "code",
   "execution_count": 137,
   "id": "ec3e75ee",
   "metadata": {},
   "outputs": [],
   "source": [
    "# I dont have a gpu !! just a mac"
   ]
  },
  {
   "cell_type": "code",
   "execution_count": 138,
   "id": "28da938f",
   "metadata": {},
   "outputs": [
    {
     "name": "stdout",
     "output_type": "stream",
     "text": [
      "ndim: 0\n",
      "ndim of vector: 1\n",
      "ndim of matrix: 2\n"
     ]
    },
    {
     "data": {
      "text/plain": [
       "torch.Size([1, 4, 3])"
      ]
     },
     "execution_count": 138,
     "metadata": {},
     "output_type": "execute_result"
    }
   ],
   "source": [
    "# Introduction to tensors\n",
    "# a way to represent data\n",
    "\n",
    "# How do i know the different types\n",
    "# Scalar\n",
    "scalar = torch.tensor(7)\n",
    "scalar\n",
    "\n",
    "# A scalar hare dimensions i i can know it using \n",
    "print(f\"ndim: {scalar.ndim}\")\n",
    "# this has no dimension because is an integer\n",
    "\n",
    "\n",
    "# Vector\n",
    "vector = torch.tensor([8, 9])\n",
    "print(f\"ndim of vector: {vector.ndim}\")\n",
    "\n",
    "# Matrix\n",
    "matrix = torch.tensor([[1, 2], [3, 5]])\n",
    "print(f\"ndim of matrix: {matrix.ndim}\")\n",
    "\n",
    "matrix[0]\n",
    "\n",
    "matrix.shape\n",
    "\n",
    "# what is a tensor\n",
    "tensor = torch.tensor([[[1, 2, 3],\n",
    "                        [1, 2, 3],\n",
    "                        [1, 2, 3]\n",
    "                        ]])\n",
    "tensor.shape\n",
    "# This will be 1, 3, 3\n",
    "tensor2 = torch.tensor([[[1, 2, 3],\n",
    "                        [1, 2, 3],\n",
    "                        [1, 2, 3],\n",
    "                        [1, 2, 3]\n",
    "                        ]])\n",
    "tensor2.shape\n",
    "# This will be 1, 4, 3\n",
    "\n"
   ]
  },
  {
   "cell_type": "markdown",
   "id": "499141d8",
   "metadata": {},
   "source": [
    "### Random tensors\n",
    "Why to use random tensor\n",
    "They are importand because we start from random noise to create a neural net\n",
    "\n"
   ]
  },
  {
   "cell_type": "code",
   "execution_count": 139,
   "id": "d50dd673",
   "metadata": {},
   "outputs": [
    {
     "data": {
      "text/plain": [
       "torch.Size([3, 4])"
      ]
     },
     "execution_count": 139,
     "metadata": {},
     "output_type": "execute_result"
    }
   ],
   "source": [
    "# Create a random tensor\n",
    "random_tens = torch.rand(3,4)\n",
    "random_tens\n",
    "random_tens.ndim\n",
    "random_tens.shape"
   ]
  },
  {
   "cell_type": "code",
   "execution_count": 140,
   "id": "aff7f431",
   "metadata": {},
   "outputs": [
    {
     "data": {
      "text/plain": [
       "tensor([[[0., 0., 0.],\n",
       "         [0., 0., 0.],\n",
       "         [0., 0., 0.],\n",
       "         ...,\n",
       "         [0., 0., 0.],\n",
       "         [0., 0., 0.],\n",
       "         [0., 0., 0.]],\n",
       "\n",
       "        [[0., 0., 0.],\n",
       "         [0., 0., 0.],\n",
       "         [0., 0., 0.],\n",
       "         ...,\n",
       "         [0., 0., 0.],\n",
       "         [0., 0., 0.],\n",
       "         [0., 0., 0.]],\n",
       "\n",
       "        [[0., 0., 0.],\n",
       "         [0., 0., 0.],\n",
       "         [0., 0., 0.],\n",
       "         ...,\n",
       "         [0., 0., 0.],\n",
       "         [0., 0., 0.],\n",
       "         [0., 0., 0.]],\n",
       "\n",
       "        ...,\n",
       "\n",
       "        [[0., 0., 0.],\n",
       "         [0., 0., 0.],\n",
       "         [0., 0., 0.],\n",
       "         ...,\n",
       "         [0., 0., 0.],\n",
       "         [0., 0., 0.],\n",
       "         [0., 0., 0.]],\n",
       "\n",
       "        [[0., 0., 0.],\n",
       "         [0., 0., 0.],\n",
       "         [0., 0., 0.],\n",
       "         ...,\n",
       "         [0., 0., 0.],\n",
       "         [0., 0., 0.],\n",
       "         [0., 0., 0.]],\n",
       "\n",
       "        [[0., 0., 0.],\n",
       "         [0., 0., 0.],\n",
       "         [0., 0., 0.],\n",
       "         ...,\n",
       "         [0., 0., 0.],\n",
       "         [0., 0., 0.],\n",
       "         [0., 0., 0.]]])"
      ]
     },
     "execution_count": 140,
     "metadata": {},
     "output_type": "execute_result"
    }
   ],
   "source": [
    "randimg = torch.rand(100, 100, 3) # height, width, colors rgb\n",
    "randimg.shape; randimg.ndim\n",
    "\n",
    "# all zeros\n",
    "zeros = torch.zeros(100, 100, 3)\n",
    "r0 = randimg * zeros\n",
    "\n",
    "r0"
   ]
  },
  {
   "cell_type": "code",
   "execution_count": 141,
   "id": "8875f428",
   "metadata": {},
   "outputs": [
    {
     "data": {
      "text/plain": [
       "torch.float32"
      ]
     },
     "execution_count": 141,
     "metadata": {},
     "output_type": "execute_result"
    }
   ],
   "source": [
    "zeros.dtype"
   ]
  },
  {
   "cell_type": "markdown",
   "id": "a24714d2",
   "metadata": {},
   "source": [
    "# Ranges"
   ]
  },
  {
   "cell_type": "code",
   "execution_count": 142,
   "id": "5861f59d",
   "metadata": {},
   "outputs": [
    {
     "data": {
      "text/plain": [
       "tensor([[[0., 0., 0.],\n",
       "         [0., 0., 0.],\n",
       "         [0., 0., 0.],\n",
       "         ...,\n",
       "         [0., 0., 0.],\n",
       "         [0., 0., 0.],\n",
       "         [0., 0., 0.]],\n",
       "\n",
       "        [[0., 0., 0.],\n",
       "         [0., 0., 0.],\n",
       "         [0., 0., 0.],\n",
       "         ...,\n",
       "         [0., 0., 0.],\n",
       "         [0., 0., 0.],\n",
       "         [0., 0., 0.]],\n",
       "\n",
       "        [[0., 0., 0.],\n",
       "         [0., 0., 0.],\n",
       "         [0., 0., 0.],\n",
       "         ...,\n",
       "         [0., 0., 0.],\n",
       "         [0., 0., 0.],\n",
       "         [0., 0., 0.]],\n",
       "\n",
       "        ...,\n",
       "\n",
       "        [[0., 0., 0.],\n",
       "         [0., 0., 0.],\n",
       "         [0., 0., 0.],\n",
       "         ...,\n",
       "         [0., 0., 0.],\n",
       "         [0., 0., 0.],\n",
       "         [0., 0., 0.]],\n",
       "\n",
       "        [[0., 0., 0.],\n",
       "         [0., 0., 0.],\n",
       "         [0., 0., 0.],\n",
       "         ...,\n",
       "         [0., 0., 0.],\n",
       "         [0., 0., 0.],\n",
       "         [0., 0., 0.]],\n",
       "\n",
       "        [[0., 0., 0.],\n",
       "         [0., 0., 0.],\n",
       "         [0., 0., 0.],\n",
       "         ...,\n",
       "         [0., 0., 0.],\n",
       "         [0., 0., 0.],\n",
       "         [1., 1., 1.]]])"
      ]
     },
     "execution_count": 142,
     "metadata": {},
     "output_type": "execute_result"
    }
   ],
   "source": [
    "\n",
    "zeros[99][99] = torch.ones(3)\n",
    "zeros[99][99] \n",
    "zeros\n"
   ]
  },
  {
   "cell_type": "markdown",
   "id": "5824fb65",
   "metadata": {},
   "source": []
  },
  {
   "cell_type": "code",
   "execution_count": 143,
   "id": "01423a52",
   "metadata": {},
   "outputs": [
    {
     "data": {
      "text/plain": [
       "tensor([ 0,  1,  2,  3,  4,  5,  6,  7,  8,  9, 10])"
      ]
     },
     "execution_count": 143,
     "metadata": {},
     "output_type": "execute_result"
    }
   ],
   "source": [
    "# range\n",
    "torch.arange(0, 11)"
   ]
  },
  {
   "cell_type": "code",
   "execution_count": 144,
   "id": "28f189ca",
   "metadata": {},
   "outputs": [
    {
     "data": {
      "text/plain": [
       "tensor([  1,  13,  25,  37,  49,  61,  73,  85,  97, 109, 121, 133, 145, 157,\n",
       "        169, 181, 193])"
      ]
     },
     "execution_count": 144,
     "metadata": {},
     "output_type": "execute_result"
    }
   ],
   "source": [
    "torch.arange(start=1, end=200, step=12)"
   ]
  },
  {
   "cell_type": "code",
   "execution_count": 145,
   "id": "1c23bb88",
   "metadata": {},
   "outputs": [
    {
     "data": {
      "text/plain": [
       "tensor([0, 0, 0, 0, 0, 0, 0, 0, 0, 0, 0, 0, 0, 0, 0, 0, 0, 0, 0, 0, 0, 0, 0, 0,\n",
       "        0, 0, 0, 0, 0, 0, 0, 0, 0, 0, 0, 0, 0, 0, 0, 0, 0, 0, 0, 0, 0, 0, 0, 0,\n",
       "        0, 0, 0, 0, 0, 0, 0, 0, 0, 0, 0, 0, 0, 0, 0, 0, 0, 0, 0, 0, 0, 0, 0, 0,\n",
       "        0, 0, 0, 0, 0, 0, 0, 0, 0, 0, 0, 0, 0, 0, 0, 0, 0, 0, 0, 0, 0, 0, 0, 0,\n",
       "        0, 0, 0, 0])"
      ]
     },
     "execution_count": 145,
     "metadata": {},
     "output_type": "execute_result"
    }
   ],
   "source": [
    "# i can use like to crate a similar dim \n",
    "ff = torch.arange(0, 100)\n",
    "zeros_like_ff = torch.zeros_like(ff)\n",
    "zeros_like_ff"
   ]
  },
  {
   "cell_type": "code",
   "execution_count": 146,
   "id": "13ef7a18",
   "metadata": {},
   "outputs": [],
   "source": [
    "# Tensors Data types\n",
    "float_32_tensor = torch.tensor([3.0, 6.0, 9.0], dtype = None)"
   ]
  },
  {
   "cell_type": "code",
   "execution_count": 147,
   "id": "10188c97",
   "metadata": {},
   "outputs": [
    {
     "data": {
      "text/plain": [
       "torch.float32"
      ]
     },
     "execution_count": 147,
     "metadata": {},
     "output_type": "execute_result"
    }
   ],
   "source": [
    "# This is float32 because is the default\n",
    "float_32_tensor.dtype\n",
    "\n"
   ]
  },
  {
   "cell_type": "code",
   "execution_count": 148,
   "id": "b06ebcac",
   "metadata": {},
   "outputs": [],
   "source": [
    "\n",
    "# float_16_tensor = torch.tensor([3.0, 6.0, 9.0], dtype = torch.float16, \n",
    "#                                device = None, # is it store in cpu o gpu\n",
    "#                                # for example you can use \"cuda\" if you have it\n",
    "#                                require_grad = False # Track gradients with this tensor\n",
    "#                                )\n",
    "# Beware of\n",
    "# Tensor not right datatype\n",
    "# Tensor not right shape\n",
    "# Tensor not on the right device\n"
   ]
  },
  {
   "cell_type": "code",
   "execution_count": 149,
   "id": "73b6bdd2",
   "metadata": {},
   "outputs": [],
   "source": [
    "float_16_tensor = float_32_tensor.type(dtype=torch.float16)"
   ]
  },
  {
   "cell_type": "code",
   "execution_count": 150,
   "id": "67fbd6b4",
   "metadata": {},
   "outputs": [
    {
     "data": {
      "text/plain": [
       "torch.float32"
      ]
     },
     "execution_count": 150,
     "metadata": {},
     "output_type": "execute_result"
    }
   ],
   "source": [
    "\n",
    "res = float_16_tensor * float_32_tensor\n",
    "res.dtype\n",
    "# This operation is correct"
   ]
  },
  {
   "cell_type": "code",
   "execution_count": 151,
   "id": "761a4708",
   "metadata": {},
   "outputs": [
    {
     "name": "stdout",
     "output_type": "stream",
     "text": [
      "tensor([[0.8073, 0.8787, 0.3620, 0.7175, 0.4652],\n",
      "        [0.2695, 0.7101, 0.3664, 0.5961, 0.1099],\n",
      "        [0.0417, 0.9678, 0.8049, 0.2852, 0.9984]])\n",
      "ndim: 2\n",
      "dtype: torch.float32\n",
      "shape: torch.Size([3, 5])\n",
      "device: cpu\n"
     ]
    }
   ],
   "source": [
    "### Getting informations from a tensor\n",
    "# Type: user .dtype\n",
    "# Shape: .shape\n",
    "# Device: .device\n",
    "\n",
    "some_t = torch.rand(3, 5)\n",
    "some_t\n",
    "\n",
    "print(some_t)\n",
    "print(f\"ndim: {some_t.ndim}\")\n",
    "print(f\"dtype: {some_t.dtype}\")\n",
    "print(f\"shape: {some_t.shape}\")\n",
    "print(f\"device: {some_t.device}\")"
   ]
  },
  {
   "cell_type": "code",
   "execution_count": 152,
   "id": "f7949e97",
   "metadata": {},
   "outputs": [
    {
     "data": {
      "text/plain": [
       "tensor([11, 12, 13])"
      ]
     },
     "execution_count": 152,
     "metadata": {},
     "output_type": "execute_result"
    }
   ],
   "source": [
    "### Manipulating tensors (tensor operations)\n",
    "\n",
    "# This includes addition, sub, mult\n",
    "# Devision\n",
    "# Matrix multiplication\n",
    "\n",
    "# Addition\n",
    "t1 = torch.tensor([1, 2, 3])\n",
    "t1 + 10"
   ]
  },
  {
   "cell_type": "code",
   "execution_count": 153,
   "id": "3f6ae0e3",
   "metadata": {},
   "outputs": [
    {
     "data": {
      "text/plain": [
       "tensor([10, 20, 30])"
      ]
     },
     "execution_count": 153,
     "metadata": {},
     "output_type": "execute_result"
    }
   ],
   "source": [
    "# Mult\n",
    "t1 * 10"
   ]
  },
  {
   "cell_type": "code",
   "execution_count": 154,
   "id": "6756982f",
   "metadata": {},
   "outputs": [
    {
     "data": {
      "text/plain": [
       "tensor([0.1000, 0.2000, 0.3000])"
      ]
     },
     "execution_count": 154,
     "metadata": {},
     "output_type": "execute_result"
    }
   ],
   "source": [
    "# Div\n",
    "t1 / 10"
   ]
  },
  {
   "cell_type": "code",
   "execution_count": 155,
   "id": "f94e7ed1",
   "metadata": {},
   "outputs": [
    {
     "data": {
      "text/plain": [
       "tensor([10, 20, 30])"
      ]
     },
     "execution_count": 155,
     "metadata": {},
     "output_type": "execute_result"
    }
   ],
   "source": [
    "# Built in torch operations\n",
    "torch.mul(t1, 10)"
   ]
  },
  {
   "cell_type": "code",
   "execution_count": 156,
   "id": "ce4814c3",
   "metadata": {},
   "outputs": [
    {
     "name": "stdout",
     "output_type": "stream",
     "text": [
      "tensor([[1.1343],\n",
      "        [1.2558],\n",
      "        [2.1851]])\n",
      "tensor([1.4042])\n",
      "tensor([-0.5539, -1.5026, -0.0214])\n",
      "tensor(0.6273)\n"
     ]
    }
   ],
   "source": [
    "# Matrix mult\n",
    "t1 = torch.randn(3)\n",
    "t2 = torch.randn(3)\n",
    "t1 ; t2\n",
    "\n",
    "res_matmul = torch.matmul(t1, t2)\n",
    "res_matmul.shape\n",
    "\n",
    "t1 = torch.randn(3)\n",
    "t2 = torch.randn( 3,1)\n",
    "print(t2)\n",
    "res_matmul = torch.matmul(t1, t2)\n",
    "res_matmul.shape\n",
    "print(res_matmul)\n",
    "\n",
    "# Try with transpose\n",
    "t1 = torch.randn(3)\n",
    "t2 = torch.randn(3)\n",
    "print(t2)\n",
    "res_matmul = torch.matmul(t1, t2)\n",
    "res_matmul.shape\n",
    "print(res_matmul)\n"
   ]
  },
  {
   "cell_type": "code",
   "execution_count": 157,
   "id": "76ad5858",
   "metadata": {},
   "outputs": [
    {
     "data": {
      "text/plain": [
       "tensor(5)"
      ]
     },
     "execution_count": 157,
     "metadata": {},
     "output_type": "execute_result"
    }
   ],
   "source": [
    "t1 = torch.arange(1, 3)\n",
    "t2 = torch.arange(1, 3)\n",
    "res = torch.matmul(t1, t2)\n",
    "\n",
    "res"
   ]
  },
  {
   "cell_type": "code",
   "execution_count": 158,
   "id": "f2f7421b",
   "metadata": {},
   "outputs": [],
   "source": [
    "## line mult\n",
    "def line_mul(t1, t2):\n",
    "    val = torch.tensor(0)\n",
    "    if len(t1) != len(t2): print(\"Tensor dim error\"); return torch.tensor(0)\n",
    "    for i in range(len(t1)):\n",
    "        val += t1[i] * t2[i]\n",
    "    res = val.clone().detach()\n",
    "    return res\n",
    "\n",
    "\n"
   ]
  },
  {
   "cell_type": "code",
   "execution_count": 159,
   "id": "1960d90b",
   "metadata": {},
   "outputs": [],
   "source": [
    "t3 = torch.arange(1, 9)\n",
    "t4 = torch.arange(2, 10)"
   ]
  },
  {
   "cell_type": "code",
   "execution_count": 160,
   "id": "ba1ec719",
   "metadata": {},
   "outputs": [
    {
     "name": "stdout",
     "output_type": "stream",
     "text": [
      "CPU times: total: 0 ns\n",
      "Wall time: 0 ns\n"
     ]
    },
    {
     "data": {
      "text/plain": [
       "tensor(240)"
      ]
     },
     "execution_count": 160,
     "metadata": {},
     "output_type": "execute_result"
    }
   ],
   "source": [
    "%%time\n",
    "line_mul(t3, t4)"
   ]
  },
  {
   "cell_type": "code",
   "execution_count": 161,
   "id": "9727e3b9",
   "metadata": {},
   "outputs": [
    {
     "name": "stdout",
     "output_type": "stream",
     "text": [
      "CPU times: total: 0 ns\n",
      "Wall time: 0 ns\n"
     ]
    },
    {
     "data": {
      "text/plain": [
       "tensor(240)"
      ]
     },
     "execution_count": 161,
     "metadata": {},
     "output_type": "execute_result"
    }
   ],
   "source": [
    "%%time\n",
    "torch.matmul(t3, t4)"
   ]
  },
  {
   "cell_type": "code",
   "execution_count": 162,
   "id": "3ff8268a",
   "metadata": {},
   "outputs": [],
   "source": [
    "# Using built in function i better!! what a sulprise ..."
   ]
  },
  {
   "cell_type": "code",
   "execution_count": 163,
   "id": "5bdccc8b",
   "metadata": {},
   "outputs": [
    {
     "name": "stdout",
     "output_type": "stream",
     "text": [
      "Inner dimension not working\n",
      "tensor([[0., 0., 0.],\n",
      "        [0., 0., 0.],\n",
      "        [0., 0., 0.]])\n",
      "tensor([[0., 0.],\n",
      "        [0., 0.]])\n",
      "torch.Size([3, 4, 4])\n",
      ": torch.Size([3, 4, 4])\n"
     ]
    }
   ],
   "source": [
    "# Matrix multiplication is very important\n",
    "# We need to satisfy some rules \n",
    "# For this is Shapes rules\n",
    "\n",
    "# We need to satisy\n",
    "# - Inner dimension must match\n",
    "#   - for example\n",
    "#   - (3, 2) @ (3, 2) : NOT work !\n",
    "#   - (2, 3) @ (3, 2) : Works!\n",
    "#   - (3, 2) @ (2, 3) : Works!\n",
    "\n",
    "t32 = torch.zeros(3, 2)\n",
    "t23 = torch.zeros(2, 3)\n",
    "try:\n",
    "    t32 @ t32\n",
    "except:\n",
    "    print(\"Inner dimension not working\")\n",
    "\n",
    "#\n",
    "print(t32 @ t23)\n",
    "print(t23 @ t32)\n",
    "\n",
    "# Other examples\n",
    "t342 = torch.zeros(3, 4, 2)\n",
    "t24 = torch.zeros(2, 4)\n",
    "print((t342 @ t24).shape)\n",
    "\n",
    "\n",
    "t342 = torch.zeros(3, 4, 2)\n",
    "t324 = torch.zeros(3, 2, 4)\n",
    "print(f\": {(t342 @ t324).shape}\")\n"
   ]
  },
  {
   "cell_type": "code",
   "execution_count": 164,
   "id": "0c13c803",
   "metadata": {},
   "outputs": [
    {
     "data": {
      "text/plain": [
       "torch.Size([3, 2])"
      ]
     },
     "execution_count": 164,
     "metadata": {},
     "output_type": "execute_result"
    }
   ],
   "source": [
    "# The resulting matrix has the shape of the **outher dimensions**\n",
    "t34 = torch.zeros(3, 4)\n",
    "t42 = torch.zeros(4, 2)\n",
    "(t34 @ t42).shape"
   ]
  },
  {
   "cell_type": "code",
   "execution_count": 165,
   "id": "b438c545",
   "metadata": {},
   "outputs": [
    {
     "name": "stdout",
     "output_type": "stream",
     "text": [
      "RuntimeError: mat1 and mat2 shapes cannot be multiplied (3x2 and 3x2)\n"
     ]
    },
    {
     "data": {
      "text/plain": [
       "tensor([[ 27,  30,  33],\n",
       "        [ 61,  68,  75],\n",
       "        [ 95, 106, 117]])"
      ]
     },
     "execution_count": 165,
     "metadata": {},
     "output_type": "execute_result"
    }
   ],
   "source": [
    "# Shape erros\n",
    "# Shapes for matrix multiplication\n",
    "tensor_A = torch.tensor([[1, 2],\n",
    "                        [3, 4],\n",
    "                        [5, 6],\n",
    "                         ])\n",
    "tensor_B = torch.tensor([[7, 10],\n",
    "                        [8, 11],\n",
    "                        [9, 12],\n",
    "                         ])\n",
    "\n",
    "try: \n",
    "    torch.mm(tensor_A, tensor_B)\n",
    "except: \n",
    "    print(\"RuntimeError: mat1 and mat2 shapes cannot be multiplied (3x2 and 3x2)\")\n",
    "\n",
    "# I need to adjust the shape\n",
    "# To fix shape we use transpose\n",
    "# Transpose fixes the axes\n",
    "tensor_B.T.shape\n",
    "\n",
    "# If we transpose the shape changes\n",
    "torch.mm(tensor_A, tensor_B.T)\n",
    "\n",
    "\n"
   ]
  },
  {
   "cell_type": "code",
   "execution_count": 166,
   "id": "5138250a",
   "metadata": {},
   "outputs": [],
   "source": [
    "# Aggregations (min, max, avg, .... sum)\n",
    "x = torch.arange(0, 100, 10)"
   ]
  },
  {
   "cell_type": "code",
   "execution_count": 167,
   "id": "3e72dd4e",
   "metadata": {},
   "outputs": [
    {
     "data": {
      "text/plain": [
       "(tensor(0), tensor(90))"
      ]
     },
     "execution_count": 167,
     "metadata": {},
     "output_type": "execute_result"
    }
   ],
   "source": [
    "torch.min(x), x.max()\n"
   ]
  },
  {
   "cell_type": "code",
   "execution_count": 168,
   "id": "9140f6c3",
   "metadata": {},
   "outputs": [],
   "source": [
    "# torch.mean(x) here datatype error\n",
    "y = torch.arange(0, 100, 10, dtype=torch.float32)"
   ]
  },
  {
   "cell_type": "code",
   "execution_count": 169,
   "id": "25b4a659",
   "metadata": {},
   "outputs": [
    {
     "data": {
      "text/plain": [
       "tensor(45.)"
      ]
     },
     "execution_count": 169,
     "metadata": {},
     "output_type": "execute_result"
    }
   ],
   "source": [
    "y.mean()"
   ]
  },
  {
   "cell_type": "code",
   "execution_count": 170,
   "id": "4ebef4fb",
   "metadata": {},
   "outputs": [
    {
     "data": {
      "text/plain": [
       "['H',\n",
       " 'T',\n",
       " '__abs__',\n",
       " '__add__',\n",
       " '__and__',\n",
       " '__annotations__',\n",
       " '__array__',\n",
       " '__array_priority__',\n",
       " '__array_wrap__',\n",
       " '__bool__',\n",
       " '__class__',\n",
       " '__complex__',\n",
       " '__contains__',\n",
       " '__deepcopy__',\n",
       " '__delattr__',\n",
       " '__delitem__',\n",
       " '__dict__',\n",
       " '__dir__',\n",
       " '__div__',\n",
       " '__dlpack__',\n",
       " '__dlpack_device__',\n",
       " '__doc__',\n",
       " '__eq__',\n",
       " '__float__',\n",
       " '__floordiv__',\n",
       " '__format__',\n",
       " '__ge__',\n",
       " '__getattribute__',\n",
       " '__getitem__',\n",
       " '__getstate__',\n",
       " '__gt__',\n",
       " '__hash__',\n",
       " '__iadd__',\n",
       " '__iand__',\n",
       " '__idiv__',\n",
       " '__ifloordiv__',\n",
       " '__ilshift__',\n",
       " '__imod__',\n",
       " '__imul__',\n",
       " '__index__',\n",
       " '__init__',\n",
       " '__init_subclass__',\n",
       " '__int__',\n",
       " '__invert__',\n",
       " '__ior__',\n",
       " '__ipow__',\n",
       " '__irshift__',\n",
       " '__isub__',\n",
       " '__iter__',\n",
       " '__itruediv__',\n",
       " '__ixor__',\n",
       " '__le__',\n",
       " '__len__',\n",
       " '__long__',\n",
       " '__lshift__',\n",
       " '__lt__',\n",
       " '__matmul__',\n",
       " '__mod__',\n",
       " '__module__',\n",
       " '__mul__',\n",
       " '__ne__',\n",
       " '__neg__',\n",
       " '__new__',\n",
       " '__nonzero__',\n",
       " '__or__',\n",
       " '__pos__',\n",
       " '__pow__',\n",
       " '__radd__',\n",
       " '__rand__',\n",
       " '__rdiv__',\n",
       " '__reduce__',\n",
       " '__reduce_ex__',\n",
       " '__repr__',\n",
       " '__reversed__',\n",
       " '__rfloordiv__',\n",
       " '__rlshift__',\n",
       " '__rmatmul__',\n",
       " '__rmod__',\n",
       " '__rmul__',\n",
       " '__ror__',\n",
       " '__rpow__',\n",
       " '__rrshift__',\n",
       " '__rshift__',\n",
       " '__rsub__',\n",
       " '__rtruediv__',\n",
       " '__rxor__',\n",
       " '__setattr__',\n",
       " '__setitem__',\n",
       " '__setstate__',\n",
       " '__sizeof__',\n",
       " '__str__',\n",
       " '__sub__',\n",
       " '__subclasshook__',\n",
       " '__torch_dispatch__',\n",
       " '__torch_function__',\n",
       " '__truediv__',\n",
       " '__weakref__',\n",
       " '__xor__',\n",
       " '_addmm_activation',\n",
       " '_autocast_to_full_precision',\n",
       " '_autocast_to_reduced_precision',\n",
       " '_backward_hooks',\n",
       " '_base',\n",
       " '_cdata',\n",
       " '_clear_non_serializable_cached_data',\n",
       " '_coalesced_',\n",
       " '_conj',\n",
       " '_conj_physical',\n",
       " '_dimI',\n",
       " '_dimV',\n",
       " '_fix_weakref',\n",
       " '_grad',\n",
       " '_grad_fn',\n",
       " '_has_symbolic_sizes_strides',\n",
       " '_indices',\n",
       " '_is_all_true',\n",
       " '_is_any_true',\n",
       " '_is_view',\n",
       " '_is_zerotensor',\n",
       " '_lazy_clone',\n",
       " '_make_subclass',\n",
       " '_make_wrapper_subclass',\n",
       " '_neg_view',\n",
       " '_nested_tensor_size',\n",
       " '_nested_tensor_storage_offsets',\n",
       " '_nested_tensor_strides',\n",
       " '_nnz',\n",
       " '_post_accumulate_grad_hooks',\n",
       " '_python_dispatch',\n",
       " '_reduce_ex_internal',\n",
       " '_rev_view_func_unsafe',\n",
       " '_sparse_mask_projection',\n",
       " '_to_dense',\n",
       " '_to_sparse',\n",
       " '_to_sparse_bsc',\n",
       " '_to_sparse_bsr',\n",
       " '_to_sparse_csc',\n",
       " '_to_sparse_csr',\n",
       " '_typed_storage',\n",
       " '_update_names',\n",
       " '_use_count',\n",
       " '_values',\n",
       " '_version',\n",
       " '_view_func',\n",
       " '_view_func_unsafe',\n",
       " 'abs',\n",
       " 'abs_',\n",
       " 'absolute',\n",
       " 'absolute_',\n",
       " 'acos',\n",
       " 'acos_',\n",
       " 'acosh',\n",
       " 'acosh_',\n",
       " 'add',\n",
       " 'add_',\n",
       " 'addbmm',\n",
       " 'addbmm_',\n",
       " 'addcdiv',\n",
       " 'addcdiv_',\n",
       " 'addcmul',\n",
       " 'addcmul_',\n",
       " 'addmm',\n",
       " 'addmm_',\n",
       " 'addmv',\n",
       " 'addmv_',\n",
       " 'addr',\n",
       " 'addr_',\n",
       " 'adjoint',\n",
       " 'align_as',\n",
       " 'align_to',\n",
       " 'all',\n",
       " 'allclose',\n",
       " 'amax',\n",
       " 'amin',\n",
       " 'aminmax',\n",
       " 'angle',\n",
       " 'any',\n",
       " 'apply_',\n",
       " 'arccos',\n",
       " 'arccos_',\n",
       " 'arccosh',\n",
       " 'arccosh_',\n",
       " 'arcsin',\n",
       " 'arcsin_',\n",
       " 'arcsinh',\n",
       " 'arcsinh_',\n",
       " 'arctan',\n",
       " 'arctan2',\n",
       " 'arctan2_',\n",
       " 'arctan_',\n",
       " 'arctanh',\n",
       " 'arctanh_',\n",
       " 'argmax',\n",
       " 'argmin',\n",
       " 'argsort',\n",
       " 'argwhere',\n",
       " 'as_strided',\n",
       " 'as_strided_',\n",
       " 'as_strided_scatter',\n",
       " 'as_subclass',\n",
       " 'asin',\n",
       " 'asin_',\n",
       " 'asinh',\n",
       " 'asinh_',\n",
       " 'atan',\n",
       " 'atan2',\n",
       " 'atan2_',\n",
       " 'atan_',\n",
       " 'atanh',\n",
       " 'atanh_',\n",
       " 'backward',\n",
       " 'baddbmm',\n",
       " 'baddbmm_',\n",
       " 'bernoulli',\n",
       " 'bernoulli_',\n",
       " 'bfloat16',\n",
       " 'bincount',\n",
       " 'bitwise_and',\n",
       " 'bitwise_and_',\n",
       " 'bitwise_left_shift',\n",
       " 'bitwise_left_shift_',\n",
       " 'bitwise_not',\n",
       " 'bitwise_not_',\n",
       " 'bitwise_or',\n",
       " 'bitwise_or_',\n",
       " 'bitwise_right_shift',\n",
       " 'bitwise_right_shift_',\n",
       " 'bitwise_xor',\n",
       " 'bitwise_xor_',\n",
       " 'bmm',\n",
       " 'bool',\n",
       " 'broadcast_to',\n",
       " 'byte',\n",
       " 'cauchy_',\n",
       " 'ccol_indices',\n",
       " 'cdouble',\n",
       " 'ceil',\n",
       " 'ceil_',\n",
       " 'cfloat',\n",
       " 'chalf',\n",
       " 'char',\n",
       " 'cholesky',\n",
       " 'cholesky_inverse',\n",
       " 'cholesky_solve',\n",
       " 'chunk',\n",
       " 'clamp',\n",
       " 'clamp_',\n",
       " 'clamp_max',\n",
       " 'clamp_max_',\n",
       " 'clamp_min',\n",
       " 'clamp_min_',\n",
       " 'clip',\n",
       " 'clip_',\n",
       " 'clone',\n",
       " 'coalesce',\n",
       " 'col_indices',\n",
       " 'conj',\n",
       " 'conj_physical',\n",
       " 'conj_physical_',\n",
       " 'contiguous',\n",
       " 'copy_',\n",
       " 'copysign',\n",
       " 'copysign_',\n",
       " 'corrcoef',\n",
       " 'cos',\n",
       " 'cos_',\n",
       " 'cosh',\n",
       " 'cosh_',\n",
       " 'count_nonzero',\n",
       " 'cov',\n",
       " 'cpu',\n",
       " 'cross',\n",
       " 'crow_indices',\n",
       " 'cuda',\n",
       " 'cummax',\n",
       " 'cummin',\n",
       " 'cumprod',\n",
       " 'cumprod_',\n",
       " 'cumsum',\n",
       " 'cumsum_',\n",
       " 'data',\n",
       " 'data_ptr',\n",
       " 'deg2rad',\n",
       " 'deg2rad_',\n",
       " 'dense_dim',\n",
       " 'dequantize',\n",
       " 'det',\n",
       " 'detach',\n",
       " 'detach_',\n",
       " 'device',\n",
       " 'diag',\n",
       " 'diag_embed',\n",
       " 'diagflat',\n",
       " 'diagonal',\n",
       " 'diagonal_scatter',\n",
       " 'diff',\n",
       " 'digamma',\n",
       " 'digamma_',\n",
       " 'dim',\n",
       " 'dim_order',\n",
       " 'dist',\n",
       " 'div',\n",
       " 'div_',\n",
       " 'divide',\n",
       " 'divide_',\n",
       " 'dot',\n",
       " 'double',\n",
       " 'dsplit',\n",
       " 'dtype',\n",
       " 'eig',\n",
       " 'element_size',\n",
       " 'eq',\n",
       " 'eq_',\n",
       " 'equal',\n",
       " 'erf',\n",
       " 'erf_',\n",
       " 'erfc',\n",
       " 'erfc_',\n",
       " 'erfinv',\n",
       " 'erfinv_',\n",
       " 'exp',\n",
       " 'exp2',\n",
       " 'exp2_',\n",
       " 'exp_',\n",
       " 'expand',\n",
       " 'expand_as',\n",
       " 'expm1',\n",
       " 'expm1_',\n",
       " 'exponential_',\n",
       " 'fill_',\n",
       " 'fill_diagonal_',\n",
       " 'fix',\n",
       " 'fix_',\n",
       " 'flatten',\n",
       " 'flip',\n",
       " 'fliplr',\n",
       " 'flipud',\n",
       " 'float',\n",
       " 'float_power',\n",
       " 'float_power_',\n",
       " 'floor',\n",
       " 'floor_',\n",
       " 'floor_divide',\n",
       " 'floor_divide_',\n",
       " 'fmax',\n",
       " 'fmin',\n",
       " 'fmod',\n",
       " 'fmod_',\n",
       " 'frac',\n",
       " 'frac_',\n",
       " 'frexp',\n",
       " 'gather',\n",
       " 'gcd',\n",
       " 'gcd_',\n",
       " 'ge',\n",
       " 'ge_',\n",
       " 'geometric_',\n",
       " 'geqrf',\n",
       " 'ger',\n",
       " 'get_device',\n",
       " 'grad',\n",
       " 'grad_fn',\n",
       " 'greater',\n",
       " 'greater_',\n",
       " 'greater_equal',\n",
       " 'greater_equal_',\n",
       " 'gt',\n",
       " 'gt_',\n",
       " 'half',\n",
       " 'hardshrink',\n",
       " 'has_names',\n",
       " 'heaviside',\n",
       " 'heaviside_',\n",
       " 'histc',\n",
       " 'histogram',\n",
       " 'hsplit',\n",
       " 'hypot',\n",
       " 'hypot_',\n",
       " 'i0',\n",
       " 'i0_',\n",
       " 'igamma',\n",
       " 'igamma_',\n",
       " 'igammac',\n",
       " 'igammac_',\n",
       " 'imag',\n",
       " 'index_add',\n",
       " 'index_add_',\n",
       " 'index_copy',\n",
       " 'index_copy_',\n",
       " 'index_fill',\n",
       " 'index_fill_',\n",
       " 'index_put',\n",
       " 'index_put_',\n",
       " 'index_reduce',\n",
       " 'index_reduce_',\n",
       " 'index_select',\n",
       " 'indices',\n",
       " 'inner',\n",
       " 'int',\n",
       " 'int_repr',\n",
       " 'inverse',\n",
       " 'ipu',\n",
       " 'is_coalesced',\n",
       " 'is_complex',\n",
       " 'is_conj',\n",
       " 'is_contiguous',\n",
       " 'is_cpu',\n",
       " 'is_cuda',\n",
       " 'is_distributed',\n",
       " 'is_floating_point',\n",
       " 'is_inference',\n",
       " 'is_ipu',\n",
       " 'is_leaf',\n",
       " 'is_maia',\n",
       " 'is_meta',\n",
       " 'is_mkldnn',\n",
       " 'is_mps',\n",
       " 'is_mtia',\n",
       " 'is_neg',\n",
       " 'is_nested',\n",
       " 'is_nonzero',\n",
       " 'is_pinned',\n",
       " 'is_quantized',\n",
       " 'is_same_size',\n",
       " 'is_set_to',\n",
       " 'is_shared',\n",
       " 'is_signed',\n",
       " 'is_sparse',\n",
       " 'is_sparse_csr',\n",
       " 'is_vulkan',\n",
       " 'is_xla',\n",
       " 'is_xpu',\n",
       " 'isclose',\n",
       " 'isfinite',\n",
       " 'isinf',\n",
       " 'isnan',\n",
       " 'isneginf',\n",
       " 'isposinf',\n",
       " 'isreal',\n",
       " 'istft',\n",
       " 'item',\n",
       " 'itemsize',\n",
       " 'kron',\n",
       " 'kthvalue',\n",
       " 'layout',\n",
       " 'lcm',\n",
       " 'lcm_',\n",
       " 'ldexp',\n",
       " 'ldexp_',\n",
       " 'le',\n",
       " 'le_',\n",
       " 'lerp',\n",
       " 'lerp_',\n",
       " 'less',\n",
       " 'less_',\n",
       " 'less_equal',\n",
       " 'less_equal_',\n",
       " 'lgamma',\n",
       " 'lgamma_',\n",
       " 'log',\n",
       " 'log10',\n",
       " 'log10_',\n",
       " 'log1p',\n",
       " 'log1p_',\n",
       " 'log2',\n",
       " 'log2_',\n",
       " 'log_',\n",
       " 'log_normal_',\n",
       " 'log_softmax',\n",
       " 'logaddexp',\n",
       " 'logaddexp2',\n",
       " 'logcumsumexp',\n",
       " 'logdet',\n",
       " 'logical_and',\n",
       " 'logical_and_',\n",
       " 'logical_not',\n",
       " 'logical_not_',\n",
       " 'logical_or',\n",
       " 'logical_or_',\n",
       " 'logical_xor',\n",
       " 'logical_xor_',\n",
       " 'logit',\n",
       " 'logit_',\n",
       " 'logsumexp',\n",
       " 'long',\n",
       " 'lstsq',\n",
       " 'lt',\n",
       " 'lt_',\n",
       " 'lu',\n",
       " 'lu_solve',\n",
       " 'mH',\n",
       " 'mT',\n",
       " 'map2_',\n",
       " 'map_',\n",
       " 'masked_fill',\n",
       " 'masked_fill_',\n",
       " 'masked_scatter',\n",
       " 'masked_scatter_',\n",
       " 'masked_select',\n",
       " 'matmul',\n",
       " 'matrix_exp',\n",
       " 'matrix_power',\n",
       " 'max',\n",
       " 'maximum',\n",
       " 'mean',\n",
       " 'median',\n",
       " 'min',\n",
       " 'minimum',\n",
       " 'mm',\n",
       " 'mode',\n",
       " 'module_load',\n",
       " 'moveaxis',\n",
       " 'movedim',\n",
       " 'msort',\n",
       " 'mtia',\n",
       " 'mul',\n",
       " 'mul_',\n",
       " 'multinomial',\n",
       " 'multiply',\n",
       " 'multiply_',\n",
       " 'mv',\n",
       " 'mvlgamma',\n",
       " 'mvlgamma_',\n",
       " 'name',\n",
       " 'names',\n",
       " 'nan_to_num',\n",
       " 'nan_to_num_',\n",
       " 'nanmean',\n",
       " 'nanmedian',\n",
       " 'nanquantile',\n",
       " 'nansum',\n",
       " 'narrow',\n",
       " 'narrow_copy',\n",
       " 'nbytes',\n",
       " 'ndim',\n",
       " 'ndimension',\n",
       " 'ne',\n",
       " 'ne_',\n",
       " 'neg',\n",
       " 'neg_',\n",
       " 'negative',\n",
       " 'negative_',\n",
       " 'nelement',\n",
       " 'new',\n",
       " 'new_empty',\n",
       " 'new_empty_strided',\n",
       " 'new_full',\n",
       " 'new_ones',\n",
       " 'new_tensor',\n",
       " 'new_zeros',\n",
       " 'nextafter',\n",
       " 'nextafter_',\n",
       " 'nonzero',\n",
       " 'nonzero_static',\n",
       " 'norm',\n",
       " 'normal_',\n",
       " 'not_equal',\n",
       " 'not_equal_',\n",
       " 'numel',\n",
       " 'numpy',\n",
       " 'orgqr',\n",
       " 'ormqr',\n",
       " 'outer',\n",
       " 'output_nr',\n",
       " 'permute',\n",
       " 'pin_memory',\n",
       " 'pinverse',\n",
       " 'polygamma',\n",
       " 'polygamma_',\n",
       " 'positive',\n",
       " 'pow',\n",
       " 'pow_',\n",
       " 'prelu',\n",
       " 'prod',\n",
       " 'put',\n",
       " 'put_',\n",
       " 'q_per_channel_axis',\n",
       " 'q_per_channel_scales',\n",
       " 'q_per_channel_zero_points',\n",
       " 'q_scale',\n",
       " 'q_zero_point',\n",
       " 'qr',\n",
       " 'qscheme',\n",
       " 'quantile',\n",
       " 'rad2deg',\n",
       " 'rad2deg_',\n",
       " 'random_',\n",
       " 'ravel',\n",
       " 'real',\n",
       " 'reciprocal',\n",
       " 'reciprocal_',\n",
       " 'record_stream',\n",
       " 'refine_names',\n",
       " 'register_hook',\n",
       " 'register_post_accumulate_grad_hook',\n",
       " 'reinforce',\n",
       " 'relu',\n",
       " 'relu_',\n",
       " 'remainder',\n",
       " 'remainder_',\n",
       " 'rename',\n",
       " 'rename_',\n",
       " 'renorm',\n",
       " 'renorm_',\n",
       " 'repeat',\n",
       " 'repeat_interleave',\n",
       " 'requires_grad',\n",
       " 'requires_grad_',\n",
       " 'reshape',\n",
       " 'reshape_as',\n",
       " 'resize',\n",
       " 'resize_',\n",
       " 'resize_as',\n",
       " 'resize_as_',\n",
       " 'resize_as_sparse_',\n",
       " 'resolve_conj',\n",
       " 'resolve_neg',\n",
       " 'retain_grad',\n",
       " 'retains_grad',\n",
       " 'roll',\n",
       " 'rot90',\n",
       " 'round',\n",
       " 'round_',\n",
       " 'row_indices',\n",
       " 'rsqrt',\n",
       " 'rsqrt_',\n",
       " 'scatter',\n",
       " 'scatter_',\n",
       " 'scatter_add',\n",
       " 'scatter_add_',\n",
       " 'scatter_reduce',\n",
       " 'scatter_reduce_',\n",
       " 'select',\n",
       " 'select_scatter',\n",
       " 'set_',\n",
       " 'sgn',\n",
       " 'sgn_',\n",
       " 'shape',\n",
       " 'share_memory_',\n",
       " 'short',\n",
       " 'sigmoid',\n",
       " 'sigmoid_',\n",
       " 'sign',\n",
       " 'sign_',\n",
       " 'signbit',\n",
       " 'sin',\n",
       " 'sin_',\n",
       " 'sinc',\n",
       " 'sinc_',\n",
       " 'sinh',\n",
       " 'sinh_',\n",
       " 'size',\n",
       " 'slice_inverse',\n",
       " 'slice_scatter',\n",
       " 'slogdet',\n",
       " 'smm',\n",
       " 'softmax',\n",
       " 'solve',\n",
       " 'sort',\n",
       " 'sparse_dim',\n",
       " 'sparse_mask',\n",
       " 'sparse_resize_',\n",
       " 'sparse_resize_and_clear_',\n",
       " 'split',\n",
       " 'split_with_sizes',\n",
       " 'sqrt',\n",
       " 'sqrt_',\n",
       " 'square',\n",
       " 'square_',\n",
       " 'squeeze',\n",
       " 'squeeze_',\n",
       " 'sspaddmm',\n",
       " 'std',\n",
       " 'stft',\n",
       " 'storage',\n",
       " 'storage_offset',\n",
       " 'storage_type',\n",
       " 'stride',\n",
       " 'sub',\n",
       " 'sub_',\n",
       " 'subtract',\n",
       " 'subtract_',\n",
       " 'sum',\n",
       " 'sum_to_size',\n",
       " 'svd',\n",
       " 'swapaxes',\n",
       " 'swapaxes_',\n",
       " 'swapdims',\n",
       " 'swapdims_',\n",
       " 'symeig',\n",
       " 't',\n",
       " 't_',\n",
       " 'take',\n",
       " 'take_along_dim',\n",
       " 'tan',\n",
       " 'tan_',\n",
       " 'tanh',\n",
       " 'tanh_',\n",
       " 'tensor_split',\n",
       " 'tile',\n",
       " 'to',\n",
       " 'to_dense',\n",
       " 'to_mkldnn',\n",
       " 'to_padded_tensor',\n",
       " 'to_sparse',\n",
       " 'to_sparse_bsc',\n",
       " 'to_sparse_bsr',\n",
       " 'to_sparse_coo',\n",
       " 'to_sparse_csc',\n",
       " 'to_sparse_csr',\n",
       " 'tolist',\n",
       " 'topk',\n",
       " 'trace',\n",
       " 'transpose',\n",
       " 'transpose_',\n",
       " 'triangular_solve',\n",
       " 'tril',\n",
       " 'tril_',\n",
       " 'triu',\n",
       " 'triu_',\n",
       " 'true_divide',\n",
       " 'true_divide_',\n",
       " 'trunc',\n",
       " 'trunc_',\n",
       " 'type',\n",
       " 'type_as',\n",
       " 'unbind',\n",
       " 'unflatten',\n",
       " 'unfold',\n",
       " 'uniform_',\n",
       " 'unique',\n",
       " 'unique_consecutive',\n",
       " 'unsafe_chunk',\n",
       " 'unsafe_split',\n",
       " 'unsafe_split_with_sizes',\n",
       " 'unsqueeze',\n",
       " 'unsqueeze_',\n",
       " 'untyped_storage',\n",
       " 'values',\n",
       " 'var',\n",
       " 'vdot',\n",
       " 'view',\n",
       " 'view_as',\n",
       " 'vsplit',\n",
       " 'where',\n",
       " 'xlogy',\n",
       " 'xlogy_',\n",
       " 'xpu',\n",
       " 'zero_']"
      ]
     },
     "execution_count": 170,
     "metadata": {},
     "output_type": "execute_result"
    }
   ],
   "source": [
    "dir(x)"
   ]
  },
  {
   "cell_type": "code",
   "execution_count": 171,
   "id": "789567e7",
   "metadata": {},
   "outputs": [
    {
     "name": "stdout",
     "output_type": "stream",
     "text": [
      "max is at: 9\n",
      "max has value: 90\n"
     ]
    },
    {
     "data": {
      "text/plain": [
       "tensor(9)"
      ]
     },
     "execution_count": 171,
     "metadata": {},
     "output_type": "execute_result"
    }
   ],
   "source": [
    "res = torch.max(x, dim=0, keepdim=False)\n",
    "print(f\"max is at: {res.indices}\")\n",
    "\n",
    "# this means that the position 9 of the tensor holds the max value\n",
    "print(f\"max has value: {x[res.indices.item()]}\")\n",
    "\n",
    "x.argmin()\n",
    "x.argmax() # find max position\n"
   ]
  },
  {
   "cell_type": "code",
   "execution_count": 172,
   "id": "da734b4a",
   "metadata": {},
   "outputs": [
    {
     "data": {
      "text/plain": [
       "(tensor([1, 2, 3, 4, 5, 6, 7, 8, 9]), torch.Size([9]))"
      ]
     },
     "execution_count": 172,
     "metadata": {},
     "output_type": "execute_result"
    }
   ],
   "source": [
    "# Reshaping, Stacking, squezeeing and unsqueezing tensors\n",
    "\n",
    "# Reshape: reshapes a tensor\n",
    "# View: return a view of an input tensor but in memory is the same\n",
    "# Stacking: staks ternsos in new dimensions\n",
    "# Squeeze: removes all 1 dimensions\n",
    "# Unsqueezw: adds a 1 dimensions to a target tensor\n",
    "# Permute: returns a view\n",
    "\n",
    "x = torch.arange(1, 10)\n",
    "x, x.shape"
   ]
  },
  {
   "cell_type": "code",
   "execution_count": 173,
   "id": "b9f6a7c5",
   "metadata": {},
   "outputs": [],
   "source": [
    "# add exstra dimension\n",
    "x_reshaped = x.reshape(1, 9)"
   ]
  },
  {
   "cell_type": "code",
   "execution_count": 174,
   "id": "499c5eb2",
   "metadata": {},
   "outputs": [],
   "source": [
    "# In the reshape the number of elements must be the same"
   ]
  },
  {
   "cell_type": "code",
   "execution_count": 175,
   "id": "2cf504e4",
   "metadata": {},
   "outputs": [
    {
     "data": {
      "text/plain": [
       "tensor([[1, 2, 3],\n",
       "        [4, 5, 6],\n",
       "        [7, 8, 9]])"
      ]
     },
     "execution_count": 175,
     "metadata": {},
     "output_type": "execute_result"
    }
   ],
   "source": [
    "x.reshape(3, 3)"
   ]
  },
  {
   "cell_type": "code",
   "execution_count": 176,
   "id": "a4505a0f",
   "metadata": {},
   "outputs": [],
   "source": [
    "z = x.view(1, 9)"
   ]
  },
  {
   "cell_type": "code",
   "execution_count": 177,
   "id": "a94d2b27",
   "metadata": {},
   "outputs": [
    {
     "data": {
      "text/plain": [
       "tensor([[1, 2, 3, 4, 5, 6, 7, 8, 9]])"
      ]
     },
     "execution_count": 177,
     "metadata": {},
     "output_type": "execute_result"
    }
   ],
   "source": [
    "z"
   ]
  },
  {
   "cell_type": "code",
   "execution_count": 178,
   "id": "6a17b5bf",
   "metadata": {},
   "outputs": [],
   "source": [
    "# A view of a tensor shares memory with a tensor that is a view of"
   ]
  },
  {
   "cell_type": "code",
   "execution_count": 179,
   "id": "d153b67c",
   "metadata": {},
   "outputs": [],
   "source": [
    "# Stack\n",
    "s = torch.stack([x, x, x, x])"
   ]
  },
  {
   "cell_type": "code",
   "execution_count": 180,
   "id": "fb46c870",
   "metadata": {},
   "outputs": [
    {
     "data": {
      "text/plain": [
       "tensor([[1, 2, 3, 4, 5, 6, 7, 8, 9],\n",
       "        [1, 2, 3, 4, 5, 6, 7, 8, 9],\n",
       "        [1, 2, 3, 4, 5, 6, 7, 8, 9],\n",
       "        [1, 2, 3, 4, 5, 6, 7, 8, 9]])"
      ]
     },
     "execution_count": 180,
     "metadata": {},
     "output_type": "execute_result"
    }
   ],
   "source": [
    "s"
   ]
  },
  {
   "cell_type": "code",
   "execution_count": 181,
   "id": "41fe44b4",
   "metadata": {},
   "outputs": [
    {
     "data": {
      "text/plain": [
       "tensor([[[1, 2, 3, 4, 5, 6, 7, 8, 9],\n",
       "         [1, 2, 3, 4, 5, 6, 7, 8, 9],\n",
       "         [1, 2, 3, 4, 5, 6, 7, 8, 9],\n",
       "         [1, 2, 3, 4, 5, 6, 7, 8, 9]],\n",
       "\n",
       "        [[1, 2, 3, 4, 5, 6, 7, 8, 9],\n",
       "         [1, 2, 3, 4, 5, 6, 7, 8, 9],\n",
       "         [1, 2, 3, 4, 5, 6, 7, 8, 9],\n",
       "         [1, 2, 3, 4, 5, 6, 7, 8, 9]]])"
      ]
     },
     "execution_count": 181,
     "metadata": {},
     "output_type": "execute_result"
    }
   ],
   "source": [
    "## This uses the raw s to stack\n",
    "torch.stack([s, s])"
   ]
  },
  {
   "cell_type": "code",
   "execution_count": 182,
   "id": "5ff2b4b5",
   "metadata": {},
   "outputs": [
    {
     "data": {
      "text/plain": [
       "tensor([[1, 2, 3, 4, 5, 6, 7, 8, 9, 1, 2, 3, 4, 5, 6, 7, 8, 9],\n",
       "        [1, 2, 3, 4, 5, 6, 7, 8, 9, 1, 2, 3, 4, 5, 6, 7, 8, 9],\n",
       "        [1, 2, 3, 4, 5, 6, 7, 8, 9, 1, 2, 3, 4, 5, 6, 7, 8, 9],\n",
       "        [1, 2, 3, 4, 5, 6, 7, 8, 9, 1, 2, 3, 4, 5, 6, 7, 8, 9]])"
      ]
     },
     "execution_count": 182,
     "metadata": {},
     "output_type": "execute_result"
    }
   ],
   "source": [
    "# This staks hte column and combines them\n",
    "torch.hstack([s, s])"
   ]
  },
  {
   "cell_type": "code",
   "execution_count": 183,
   "id": "016cec9e",
   "metadata": {},
   "outputs": [
    {
     "data": {
      "text/plain": [
       "tensor([[1, 2, 3, 4, 5, 6, 7, 8, 9],\n",
       "        [1, 2, 3, 4, 5, 6, 7, 8, 9],\n",
       "        [1, 2, 3, 4, 5, 6, 7, 8, 9],\n",
       "        [1, 2, 3, 4, 5, 6, 7, 8, 9],\n",
       "        [1, 2, 3, 4, 5, 6, 7, 8, 9],\n",
       "        [1, 2, 3, 4, 5, 6, 7, 8, 9],\n",
       "        [1, 2, 3, 4, 5, 6, 7, 8, 9],\n",
       "        [1, 2, 3, 4, 5, 6, 7, 8, 9]])"
      ]
     },
     "execution_count": 183,
     "metadata": {},
     "output_type": "execute_result"
    }
   ],
   "source": [
    "# This staks rows and combines them\n",
    "torch.vstack([s, s])"
   ]
  },
  {
   "cell_type": "code",
   "execution_count": 184,
   "id": "f625a662",
   "metadata": {},
   "outputs": [
    {
     "data": {
      "text/plain": [
       "tensor([[ 20,  21,  22,  23,  24,  25,  26,  27,  28,  29],\n",
       "        [100, 101, 102, 103, 104, 105, 106, 107, 108, 109]])"
      ]
     },
     "execution_count": 184,
     "metadata": {},
     "output_type": "execute_result"
    }
   ],
   "source": [
    "torch.stack([torch.arange(20, 30), torch.arange(100, 110)])"
   ]
  },
  {
   "cell_type": "code",
   "execution_count": 185,
   "id": "a2573240",
   "metadata": {},
   "outputs": [
    {
     "data": {
      "text/plain": [
       "tensor([[ 20,  21,  22,  23,  24,  25,  26,  27,  28,  29],\n",
       "        [100, 101, 102, 103, 104, 105, 106, 107, 108, 109]])"
      ]
     },
     "execution_count": 185,
     "metadata": {},
     "output_type": "execute_result"
    }
   ],
   "source": [
    "torch.vstack([torch.arange(20, 30), torch.arange(100, 110)])"
   ]
  },
  {
   "cell_type": "code",
   "execution_count": 186,
   "id": "5de42ce3",
   "metadata": {},
   "outputs": [
    {
     "data": {
      "text/plain": [
       "tensor([ 20,  21,  22,  23,  24,  25,  26,  27,  28,  29, 100, 101, 102, 103,\n",
       "        104, 105, 106, 107, 108, 109])"
      ]
     },
     "execution_count": 186,
     "metadata": {},
     "output_type": "execute_result"
    }
   ],
   "source": [
    "torch.hstack([torch.arange(20, 30), torch.arange(100, 110)])"
   ]
  },
  {
   "cell_type": "code",
   "execution_count": 187,
   "id": "d5bbae01",
   "metadata": {},
   "outputs": [
    {
     "data": {
      "text/plain": [
       "tensor([[ 20,  21,  22,  23,  24,  25,  26,  27,  28,  29],\n",
       "        [100, 101, 102, 103, 104, 105, 106, 107, 108, 109],\n",
       "        [100, 101, 102, 103, 104, 105, 106, 107, 108, 109]])"
      ]
     },
     "execution_count": 187,
     "metadata": {},
     "output_type": "execute_result"
    }
   ],
   "source": [
    "torch.stack([torch.arange(20, 30), torch.arange(100, 110), torch.arange(100, 110)], dim=0)"
   ]
  },
  {
   "cell_type": "code",
   "execution_count": 188,
   "id": "c8b65c32",
   "metadata": {},
   "outputs": [
    {
     "data": {
      "text/plain": [
       "tensor([[ 20, 100, 100],\n",
       "        [ 21, 101, 101],\n",
       "        [ 22, 102, 102],\n",
       "        [ 23, 103, 103],\n",
       "        [ 24, 104, 104],\n",
       "        [ 25, 105, 105],\n",
       "        [ 26, 106, 106],\n",
       "        [ 27, 107, 107],\n",
       "        [ 28, 108, 108],\n",
       "        [ 29, 109, 109]])"
      ]
     },
     "execution_count": 188,
     "metadata": {},
     "output_type": "execute_result"
    }
   ],
   "source": [
    "torch.stack([torch.arange(20, 30), torch.arange(100, 110), torch.arange(100, 110)], dim=1)"
   ]
  },
  {
   "cell_type": "code",
   "execution_count": 189,
   "id": "5d3e8c21",
   "metadata": {},
   "outputs": [
    {
     "data": {
      "text/plain": [
       "tensor([[ 20, 100, 100],\n",
       "        [ 21, 101, 101],\n",
       "        [ 22, 102, 102],\n",
       "        [ 23, 103, 103],\n",
       "        [ 24, 104, 104],\n",
       "        [ 25, 105, 105],\n",
       "        [ 26, 106, 106],\n",
       "        [ 27, 107, 107],\n",
       "        [ 28, 108, 108],\n",
       "        [ 29, 109, 109]])"
      ]
     },
     "execution_count": 189,
     "metadata": {},
     "output_type": "execute_result"
    }
   ],
   "source": [
    "\n",
    "torch.stack([torch.arange(20, 30), torch.arange(100, 110), torch.arange(100, 110)], dim=-1)"
   ]
  },
  {
   "cell_type": "code",
   "execution_count": 190,
   "id": "7b55600d",
   "metadata": {},
   "outputs": [
    {
     "data": {
      "text/plain": [
       "tensor([[ 20,  21,  22,  23,  24,  25,  26,  27,  28,  29],\n",
       "        [100, 101, 102, 103, 104, 105, 106, 107, 108, 109],\n",
       "        [100, 101, 102, 103, 104, 105, 106, 107, 108, 109]])"
      ]
     },
     "execution_count": 190,
     "metadata": {},
     "output_type": "execute_result"
    }
   ],
   "source": [
    "\n",
    "torch.stack([torch.arange(20, 30), torch.arange(100, 110), torch.arange(100, 110)], dim=-2)"
   ]
  },
  {
   "cell_type": "code",
   "execution_count": 191,
   "id": "c2ea5471",
   "metadata": {},
   "outputs": [
    {
     "data": {
      "text/plain": [
       "tensor([[ 20,  21,  22,  23,  24,  25,  26,  27,  28,  29],\n",
       "        [100, 101, 102, 103, 104, 105, 106, 107, 108, 109],\n",
       "        [100, 101, 102, 103, 104, 105, 106, 107, 108, 109]])"
      ]
     },
     "execution_count": 191,
     "metadata": {},
     "output_type": "execute_result"
    }
   ],
   "source": [
    "\n",
    "torch.stack([torch.arange(20, 30), torch.arange(100, 110), torch.arange(100, 110)], dim=-0)"
   ]
  },
  {
   "cell_type": "code",
   "execution_count": 192,
   "id": "ea3766aa",
   "metadata": {},
   "outputs": [
    {
     "data": {
      "text/plain": [
       "tensor([  0,   1,   2,   3,   4,   5,   6,   7,   8,   9,  10,  11,  12,  13,\n",
       "         14,  15,  16,  17,  18,  19,  20,  21,  22,  23,  24,  25,  26,  27,\n",
       "         28,  29,  30,  31,  32,  33,  34,  35,  36,  37,  38,  39,  40,  41,\n",
       "         42,  43,  44,  45,  46,  47,  48,  49,  50,  51,  52,  53,  54,  55,\n",
       "         56,  57,  58,  59,  60,  61,  62,  63,  64,  65,  66,  67,  68,  69,\n",
       "         70,  71,  72,  73,  74,  75,  76,  77,  78,  79,  80,  81,  82,  83,\n",
       "         84,  85,  86,  87,  88,  89,  90,  91,  92,  93,  94,  95,  96,  97,\n",
       "         98,  99, 100, 101, 102, 103, 104, 105, 106, 107, 108, 109, 110, 111,\n",
       "        112, 113, 114, 115, 116, 117, 118, 119, 120, 121, 122, 123, 124, 125,\n",
       "        126, 127, 128, 129, 130, 131, 132, 133, 134, 135, 136, 137, 138, 139,\n",
       "        140, 141, 142, 143, 144, 145, 146, 147, 148, 149, 150, 151, 152, 153,\n",
       "        154, 155, 156, 157, 158, 159, 160, 161, 162, 163, 164, 165, 166, 167,\n",
       "        168, 169, 170, 171, 172, 173, 174, 175, 176, 177, 178, 179, 180, 181,\n",
       "        182, 183, 184, 185, 186, 187, 188, 189, 190, 191, 192, 193, 194, 195,\n",
       "        196, 197, 198, 199])"
      ]
     },
     "execution_count": 192,
     "metadata": {},
     "output_type": "execute_result"
    }
   ],
   "source": [
    "torch.arange(200)"
   ]
  },
  {
   "cell_type": "code",
   "execution_count": 193,
   "id": "0fdf10c4",
   "metadata": {},
   "outputs": [
    {
     "name": "stdout",
     "output_type": "stream",
     "text": [
      "torch.Size([2, 1, 2, 1, 2])\n",
      "torch.Size([2, 2, 2])\n"
     ]
    }
   ],
   "source": [
    "# Squeeze eliminates ndim 1 dimension from a tensor\n",
    "x = torch.zeros(2, 1, 2, 1, 2)\n",
    "print(x.size())\n",
    "\n",
    "y = torch.squeeze(x)\n",
    "print(y.size())"
   ]
  },
  {
   "cell_type": "code",
   "execution_count": 196,
   "id": "f2bbead2",
   "metadata": {},
   "outputs": [
    {
     "name": "stdout",
     "output_type": "stream",
     "text": [
      "tensor([[[[[[0., 0.]],\n",
      "\n",
      "           [[0., 0.]]]]],\n",
      "\n",
      "\n",
      "\n",
      "\n",
      "        [[[[[0., 0.]],\n",
      "\n",
      "           [[0., 0.]]]]]])\n"
     ]
    }
   ],
   "source": [
    "\n",
    "y = torch.unsqueeze(x, dim=1)\n",
    "print(y)"
   ]
  },
  {
   "cell_type": "code",
   "execution_count": 200,
   "id": "e16fd495",
   "metadata": {},
   "outputs": [
    {
     "name": "stdout",
     "output_type": "stream",
     "text": [
      "tensor([3, 4, 5, 6, 7])\n"
     ]
    }
   ],
   "source": [
    "x = torch.arange(3, 8)\n",
    "print(x)"
   ]
  },
  {
   "cell_type": "code",
   "execution_count": 209,
   "id": "7b568c84",
   "metadata": {},
   "outputs": [
    {
     "name": "stdout",
     "output_type": "stream",
     "text": [
      "tensor([[3],\n",
      "        [4],\n",
      "        [5],\n",
      "        [6],\n",
      "        [7]])\n"
     ]
    }
   ],
   "source": [
    "y = torch.unsqueeze(x, dim=-1)\n",
    "print(y)"
   ]
  },
  {
   "cell_type": "code",
   "execution_count": 215,
   "id": "3afafcb9",
   "metadata": {},
   "outputs": [
    {
     "name": "stdout",
     "output_type": "stream",
     "text": [
      "tensor([[[ 7.6530e-01, -9.4306e-01, -8.5150e-01],\n",
      "         [ 1.7016e+00, -1.2386e+00, -2.7492e-01]],\n",
      "\n",
      "        [[ 4.8794e-01,  1.2919e+00, -2.0994e-03],\n",
      "         [-3.0646e-01, -1.9576e-02,  2.1656e+00]]])\n",
      "tensor([[[ 7.6530e-01,  1.7016e+00],\n",
      "         [ 4.8794e-01, -3.0646e-01]],\n",
      "\n",
      "        [[-9.4306e-01, -1.2386e+00],\n",
      "         [ 1.2919e+00, -1.9576e-02]],\n",
      "\n",
      "        [[-8.5150e-01, -2.7492e-01],\n",
      "         [-2.0994e-03,  2.1656e+00]]])\n"
     ]
    }
   ],
   "source": [
    "# Permute - rearrange the shape\n",
    "x_original = torch.randn(2,2,3) # h, w, colors\n",
    "print(x_original)\n",
    "# Permute\n",
    "x_perm = x_original.permute(2, 0, 1) \n",
    "print(x_perm)\n",
    "\n"
   ]
  },
  {
   "cell_type": "code",
   "execution_count": 216,
   "id": "fb425f87",
   "metadata": {},
   "outputs": [
    {
     "data": {
      "text/plain": [
       "(tensor([[[1, 2, 3],\n",
       "          [4, 5, 6],\n",
       "          [7, 8, 9]]]),\n",
       " torch.Size([1, 3, 3]))"
      ]
     },
     "execution_count": 216,
     "metadata": {},
     "output_type": "execute_result"
    }
   ],
   "source": [
    "# Indexing \n",
    "# Create a tensor\n",
    "import torch\n",
    "x = torch.arange(1, 10).reshape(1, 3, 3)\n",
    "x, x.shape"
   ]
  },
  {
   "cell_type": "code",
   "execution_count": 218,
   "id": "4731cc80",
   "metadata": {},
   "outputs": [
    {
     "data": {
      "text/plain": [
       "tensor([[1, 2, 3],\n",
       "        [4, 5, 6],\n",
       "        [7, 8, 9]])"
      ]
     },
     "execution_count": 218,
     "metadata": {},
     "output_type": "execute_result"
    }
   ],
   "source": [
    "# Index\n",
    "x[0] # wil return the first bracket"
   ]
  },
  {
   "cell_type": "code",
   "execution_count": 219,
   "id": "dd5372eb",
   "metadata": {},
   "outputs": [
    {
     "data": {
      "text/plain": [
       "tensor([1, 2, 3])"
      ]
     },
     "execution_count": 219,
     "metadata": {},
     "output_type": "execute_result"
    }
   ],
   "source": [
    "x[0][0]"
   ]
  },
  {
   "cell_type": "code",
   "execution_count": 220,
   "id": "c0c27bae",
   "metadata": {},
   "outputs": [
    {
     "data": {
      "text/plain": [
       "tensor(1)"
      ]
     },
     "execution_count": 220,
     "metadata": {},
     "output_type": "execute_result"
    }
   ],
   "source": [
    "x[0][0][0]"
   ]
  },
  {
   "cell_type": "code",
   "execution_count": 222,
   "id": "ec19c64b",
   "metadata": {},
   "outputs": [
    {
     "data": {
      "text/plain": [
       "tensor([[[2, 3],\n",
       "         [5, 6],\n",
       "         [8, 9]]])"
      ]
     },
     "execution_count": 222,
     "metadata": {},
     "output_type": "execute_result"
    }
   ],
   "source": [
    "# Get all values of 0 and 1 th dimentiosn and a range of the last\n",
    "x[:, :, 1:3]"
   ]
  },
  {
   "cell_type": "code",
   "execution_count": 224,
   "id": "23b47194",
   "metadata": {},
   "outputs": [],
   "source": [
    "y = torch.rand(100, 100, 100, 100)"
   ]
  },
  {
   "cell_type": "code",
   "execution_count": 226,
   "id": "5194c5ef",
   "metadata": {},
   "outputs": [
    {
     "data": {
      "text/plain": [
       "tensor([[[[9.0338e-01],\n",
       "          [4.3346e-01],\n",
       "          [5.7231e-01],\n",
       "          [8.9646e-01],\n",
       "          [9.6025e-01],\n",
       "          [3.0231e-01]],\n",
       "\n",
       "         [[4.8843e-01],\n",
       "          [1.0189e-01],\n",
       "          [5.3649e-01],\n",
       "          [3.2506e-01],\n",
       "          [8.9264e-01],\n",
       "          [2.1197e-01]],\n",
       "\n",
       "         [[2.3871e-01],\n",
       "          [9.5569e-01],\n",
       "          [5.1796e-01],\n",
       "          [6.1196e-01],\n",
       "          [2.3080e-02],\n",
       "          [6.6039e-01]]],\n",
       "\n",
       "\n",
       "        [[[6.7877e-01],\n",
       "          [6.4058e-01],\n",
       "          [5.8912e-01],\n",
       "          [5.4093e-01],\n",
       "          [5.9291e-01],\n",
       "          [7.0892e-01]],\n",
       "\n",
       "         [[7.4459e-01],\n",
       "          [6.9112e-03],\n",
       "          [8.0297e-01],\n",
       "          [3.6107e-01],\n",
       "          [6.2699e-01],\n",
       "          [7.7505e-01]],\n",
       "\n",
       "         [[9.0457e-01],\n",
       "          [6.6116e-01],\n",
       "          [5.2765e-02],\n",
       "          [6.0778e-01],\n",
       "          [4.6574e-01],\n",
       "          [6.3687e-01]]],\n",
       "\n",
       "\n",
       "        [[[1.8869e-01],\n",
       "          [2.3135e-01],\n",
       "          [5.2870e-01],\n",
       "          [8.1627e-01],\n",
       "          [3.0721e-02],\n",
       "          [5.0974e-01]],\n",
       "\n",
       "         [[5.2303e-01],\n",
       "          [3.3338e-01],\n",
       "          [6.7563e-01],\n",
       "          [1.6426e-02],\n",
       "          [2.6938e-01],\n",
       "          [6.8539e-01]],\n",
       "\n",
       "         [[2.6563e-01],\n",
       "          [5.4176e-03],\n",
       "          [3.5048e-01],\n",
       "          [5.4374e-01],\n",
       "          [5.2938e-01],\n",
       "          [6.9045e-01]]],\n",
       "\n",
       "\n",
       "        [[[8.9013e-01],\n",
       "          [8.6082e-01],\n",
       "          [7.7783e-01],\n",
       "          [4.1899e-01],\n",
       "          [1.8127e-01],\n",
       "          [3.4305e-01]],\n",
       "\n",
       "         [[7.0734e-01],\n",
       "          [1.8192e-01],\n",
       "          [8.3199e-01],\n",
       "          [4.1533e-01],\n",
       "          [8.7360e-01],\n",
       "          [4.6834e-01]],\n",
       "\n",
       "         [[4.0680e-01],\n",
       "          [5.3939e-01],\n",
       "          [9.9382e-01],\n",
       "          [8.8671e-01],\n",
       "          [5.6752e-01],\n",
       "          [6.3439e-01]]],\n",
       "\n",
       "\n",
       "        [[[7.0809e-01],\n",
       "          [6.7979e-01],\n",
       "          [5.7614e-01],\n",
       "          [5.6095e-01],\n",
       "          [9.9284e-02],\n",
       "          [5.2430e-01]],\n",
       "\n",
       "         [[2.9688e-01],\n",
       "          [5.6348e-01],\n",
       "          [2.9465e-01],\n",
       "          [5.3346e-01],\n",
       "          [9.0642e-01],\n",
       "          [5.5101e-01]],\n",
       "\n",
       "         [[6.7618e-01],\n",
       "          [6.7688e-01],\n",
       "          [9.6573e-01],\n",
       "          [5.4311e-01],\n",
       "          [5.8476e-01],\n",
       "          [6.2047e-01]]],\n",
       "\n",
       "\n",
       "        [[[9.3844e-01],\n",
       "          [9.9312e-01],\n",
       "          [9.5649e-01],\n",
       "          [7.4791e-01],\n",
       "          [7.5064e-01],\n",
       "          [8.7858e-01]],\n",
       "\n",
       "         [[3.4234e-01],\n",
       "          [7.0471e-01],\n",
       "          [6.6794e-01],\n",
       "          [7.1496e-01],\n",
       "          [3.9659e-01],\n",
       "          [1.8009e-01]],\n",
       "\n",
       "         [[7.2361e-03],\n",
       "          [8.2852e-01],\n",
       "          [3.8877e-01],\n",
       "          [7.9552e-01],\n",
       "          [6.2011e-01],\n",
       "          [5.0393e-01]]],\n",
       "\n",
       "\n",
       "        [[[1.4145e-01],\n",
       "          [9.2277e-01],\n",
       "          [4.7452e-01],\n",
       "          [7.6207e-01],\n",
       "          [3.6313e-01],\n",
       "          [5.9813e-01]],\n",
       "\n",
       "         [[8.1042e-01],\n",
       "          [9.0729e-01],\n",
       "          [9.7079e-01],\n",
       "          [5.6928e-01],\n",
       "          [4.2224e-01],\n",
       "          [1.0423e-02]],\n",
       "\n",
       "         [[9.8452e-01],\n",
       "          [7.9642e-01],\n",
       "          [7.1904e-01],\n",
       "          [3.8033e-01],\n",
       "          [3.2817e-01],\n",
       "          [3.7819e-01]]],\n",
       "\n",
       "\n",
       "        [[[8.6299e-01],\n",
       "          [5.5343e-04],\n",
       "          [8.3090e-01],\n",
       "          [2.5546e-01],\n",
       "          [6.6304e-02],\n",
       "          [3.7818e-01]],\n",
       "\n",
       "         [[5.5893e-01],\n",
       "          [4.4226e-01],\n",
       "          [2.8134e-01],\n",
       "          [8.5754e-01],\n",
       "          [6.1192e-01],\n",
       "          [3.0521e-01]],\n",
       "\n",
       "         [[2.0024e-01],\n",
       "          [7.4498e-01],\n",
       "          [3.4834e-01],\n",
       "          [5.5132e-01],\n",
       "          [2.2082e-01],\n",
       "          [3.6994e-01]]]])"
      ]
     },
     "execution_count": 226,
     "metadata": {},
     "output_type": "execute_result"
    }
   ],
   "source": [
    "y[1:9, 2:5, 3:9, 1:2]"
   ]
  },
  {
   "cell_type": "code",
   "execution_count": 231,
   "id": "076bcbc4",
   "metadata": {},
   "outputs": [
    {
     "name": "stdout",
     "output_type": "stream",
     "text": [
      "tensor([1, 2, 3, 4, 5, 6, 7])\n"
     ]
    }
   ],
   "source": [
    "# Tensors and NumPy\n",
    "# Sometimes you start with numpy and then use torch\n",
    "\n",
    "# torch.from_numpy(ndarray)\n",
    "import torch\n",
    "import numpy as np\n",
    "array = np.arange(1, 8)\n",
    "tensor = torch.from_numpy(array)\n",
    "print(tensor)\n",
    "# Numpy uses float64 as default\n",
    "tensor32 = torch.from_numpy(array).type(dtype=torch.float32)\n",
    "\n"
   ]
  },
  {
   "cell_type": "code",
   "execution_count": 232,
   "id": "fec1c697",
   "metadata": {},
   "outputs": [],
   "source": [
    "array = array + 1"
   ]
  },
  {
   "cell_type": "code",
   "execution_count": 234,
   "id": "0403c988",
   "metadata": {},
   "outputs": [
    {
     "data": {
      "text/plain": [
       "dtype('int64')"
      ]
     },
     "execution_count": 234,
     "metadata": {},
     "output_type": "execute_result"
    }
   ],
   "source": [
    "array, tensor # numpy and torch dont share mem\n",
    "\n",
    "t = torch.ones(9)\n",
    "numpy_array = tensor.numpy()\n",
    "numpy_array.dtype"
   ]
  },
  {
   "cell_type": "code",
   "execution_count": null,
   "id": "226bc24f",
   "metadata": {},
   "outputs": [],
   "source": []
  }
 ],
 "metadata": {
  "kernelspec": {
   "display_name": "Python 3 (ipykernel)",
   "language": "python",
   "name": "python3"
  },
  "language_info": {
   "codemirror_mode": {
    "name": "ipython",
    "version": 3
   },
   "file_extension": ".py",
   "mimetype": "text/x-python",
   "name": "python",
   "nbconvert_exporter": "python",
   "pygments_lexer": "ipython3",
   "version": "3.12.6"
  }
 },
 "nbformat": 4,
 "nbformat_minor": 5
}
